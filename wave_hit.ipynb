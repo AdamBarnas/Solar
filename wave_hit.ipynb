{
 "cells": [
  {
   "cell_type": "markdown",
   "metadata": {},
   "source": [
    "water depth monaco 30m min 200+ max\n",
    "\n",
    "wave height 0.5m\n",
    "period 2-10s\n",
    "wave speed 5-10km/h\n",
    "\n",
    "- https://www.tide-forecast.com/tide/Monaco/sea-conditions\n",
    "- https://www.coastalwiki.org/wiki/Shallow-water_wave_theory\n",
    "- https://www.sciencedirect.com/science/article/pii/S2092678216305441\n",
    "\n",
    "C<sub>d</sub> = drag coef 1.28 for flat plane \n",
    "\n",
    "C<sub>m</sub> = inertia coef  -  less relevant? \n",
    "\n",
    "C<sub>s</sub> = slamming coef - pi < C<sub>S</sub> < 2*pi \n",
    "\n",
    "D = diamiter of cylinder \n",
    "\n",
    "u = water velocity \n",
    "\n",
    "p<sub>w</sub> = water density 1000kg/m^3 \n",
    "\n",
    "t = time \n",
    "\n",
    "\n",
    "[[[[[[[[[[[[[[[[[[[[[[[[[]]]]]]]]]]]]]]]]]]]]]]]]]\n",
    "F = F<sub>d</sub> + F<sub>m</sub> + F<sub>s</sub>\n",
    "[[[[[[[[[[[[[[[[[[[[[[[[[]]]]]]]]]]]]]]]]]]]]]]]]]\n",
    "\n",
    "F<sub>d</sub> - drag force = 1/2 p<sub>w</sub>C<sub>d</sub>Du|u|    du/dt\n",
    "\n",
    "F<sub>m</sub> - inertia force = p<sub>w</sub>C<sub>m</sub>(pi*D^2)/4    du/dt\n",
    "\n",
    "F<sub>s</suB> - slam force = 1/2 p<sub>w</sub>C<sub>s</sub>Du^2\n",
    "\n",
    "\n"
   ]
  },
  {
   "cell_type": "code",
   "execution_count": 12,
   "metadata": {},
   "outputs": [
    {
     "name": "stdout",
     "output_type": "stream",
     "text": [
      "Fd =  77.44 KPa\n",
      "Fm =  0.11780972450961726 KPa\n",
      "Fs =  285.09953331327375 KPa\n",
      "362.65734303778333 KPa\n"
     ]
    }
   ],
   "source": [
    "import numpy as np\n",
    "Cd = 1.28\n",
    "Cm = 1 #None\n",
    "Cs = 1.5*np.pi\n",
    "D = 0.15 #[m]\n",
    "uf= 3 #[m/s]\n",
    "ul = 8 #[m/s]\n",
    "u = uf + ul #[m/s]\n",
    "Pw = 1000 #[kg/m^3]\n",
    "t = None\n",
    "\n",
    "# for 1m of length\n",
    "\n",
    "Fd = (1/2)*Pw*Cd*D*u*abs(u)\n",
    "Fm = Pw*Cm*(np.pi*(D**2))/4\n",
    "Fs = (1/2)*Pw*Cs*D*(u**2)\n",
    "\n",
    "F = np.array([Fd, Fm, Fs])\n",
    "sily = [\"Fd\", \"Fm\", \"Fs\"]\n",
    "\n",
    "F = F/0.15\n",
    "\n",
    "for i in range(len(F)):\n",
    "    print(sily[i], \"= \", F[i]/1000, \"KPa\")\n",
    "\n",
    "print(F.sum()/1000, \"KPa\")\n",
    "\n"
   ]
  }
 ],
 "metadata": {
  "kernelspec": {
   "display_name": "Python 3",
   "language": "python",
   "name": "python3"
  },
  "language_info": {
   "codemirror_mode": {
    "name": "ipython",
    "version": 3
   },
   "file_extension": ".py",
   "mimetype": "text/x-python",
   "name": "python",
   "nbconvert_exporter": "python",
   "pygments_lexer": "ipython3",
   "version": "3.12.4"
  }
 },
 "nbformat": 4,
 "nbformat_minor": 2
}
